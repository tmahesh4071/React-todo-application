{
 "cells": [
  {
   "cell_type": "code",
   "execution_count": 1,
   "id": "2bc5162e",
   "metadata": {},
   "outputs": [
    {
     "ename": "SyntaxError",
     "evalue": "invalid syntax (1608293541.py, line 3)",
     "output_type": "error",
     "traceback": [
      "\u001b[1;36m  Cell \u001b[1;32mIn[1], line 3\u001b[1;36m\u001b[0m\n\u001b[1;33m    - Data types in python\u001b[0m\n\u001b[1;37m           ^\u001b[0m\n\u001b[1;31mSyntaxError\u001b[0m\u001b[1;31m:\u001b[0m invalid syntax\n"
     ]
    }
   ],
   "source": [
    "Agenda\n",
    "-Recap\n",
    "- Data types in python\n",
    "  ----> Fundamental data types\n",
    "   ----> Derived data types\n",
    "- Type Casting\n",
    "-"
   ]
  },
  {
   "cell_type": "markdown",
   "id": "0ceb13c3",
   "metadata": {},
   "source": [
    "## Data types in Python\n",
    "1- Fundamental  Data type\n",
    "  -int\n",
    "  -float\n",
    "  -complex\n",
    "  -None\n",
    "  -boolean\n",
    "  -string\n",
    "2 -Derived datatypes\n",
    "  -list\n",
    "  -tuple\n",
    "  -set\n",
    "  -dict -range"
   ]
  },
  {
   "cell_type": "code",
   "execution_count": null,
   "id": "5426cb59",
   "metadata": {},
   "outputs": [],
   "source": [
    "Integer --> Any number without decimal point as integer"
   ]
  },
  {
   "cell_type": "code",
   "execution_count": null,
   "id": "f53e6c9d",
   "metadata": {},
   "outputs": [],
   "source": [
    "a = 10"
   ]
  },
  {
   "cell_type": "code",
   "execution_count": null,
   "id": "affb3970",
   "metadata": {},
   "outputs": [],
   "source": [
    "print(a)"
   ]
  },
  {
   "cell_type": "code",
   "execution_count": null,
   "id": "500d8e40",
   "metadata": {},
   "outputs": [],
   "source": [
    "type(a)"
   ]
  },
  {
   "cell_type": "code",
   "execution_count": null,
   "id": "8dc0b8e0",
   "metadata": {},
   "outputs": [],
   "source": [
    "#operations on integers\n",
    "# -Arithmatic operation"
   ]
  },
  {
   "cell_type": "code",
   "execution_count": null,
   "id": "836e1fa6",
   "metadata": {},
   "outputs": [],
   "source": [
    "+  ---> addition\n",
    "- # ---> subtraction\n",
    "/ #---> float division\n",
    "// #---> floor division\n",
    "% #--->Modulo\n",
    "* #----> Multiplication\n",
    "** #----> Exponent\n",
    "can be performed in Integer\n",
    "Can be performed on float"
   ]
  },
  {
   "cell_type": "code",
   "execution_count": null,
   "id": "5f395a5e",
   "metadata": {},
   "outputs": [],
   "source": [
    "print(10+30)"
   ]
  },
  {
   "cell_type": "code",
   "execution_count": null,
   "id": "dd36335d",
   "metadata": {},
   "outputs": [],
   "source": [
    "print(60-20)"
   ]
  },
  {
   "cell_type": "code",
   "execution_count": null,
   "id": "341e75b6",
   "metadata": {},
   "outputs": [],
   "source": [
    "print(10/5)"
   ]
  },
  {
   "cell_type": "markdown",
   "id": "4d0df579",
   "metadata": {},
   "source": [
    "### floor division for int"
   ]
  },
  {
   "cell_type": "code",
   "execution_count": null,
   "id": "b66cad0c",
   "metadata": {},
   "outputs": [],
   "source": [
    "print(10//5)"
   ]
  },
  {
   "cell_type": "markdown",
   "id": "5e16202d",
   "metadata": {},
   "source": [
    "floor <------------2.0--------------------------->Ceiling"
   ]
  },
  {
   "cell_type": "code",
   "execution_count": null,
   "id": "e54e2ec9",
   "metadata": {},
   "outputs": [],
   "source": [
    "round(4.666666667)\n"
   ]
  },
  {
   "cell_type": "code",
   "execution_count": null,
   "id": "9ff256d1",
   "metadata": {},
   "outputs": [],
   "source": [
    "import math\n",
    "math.ceil(4.666666666667)"
   ]
  },
  {
   "cell_type": "code",
   "execution_count": null,
   "id": "a236b2c7",
   "metadata": {},
   "outputs": [],
   "source": [
    "print(-14/5)"
   ]
  },
  {
   "cell_type": "code",
   "execution_count": null,
   "id": "3adf7a1d",
   "metadata": {},
   "outputs": [],
   "source": [
    "# %\n",
    "#it will give you the remainder\n",
    "15%3"
   ]
  },
  {
   "cell_type": "code",
   "execution_count": null,
   "id": "e49d6959",
   "metadata": {},
   "outputs": [],
   "source": [
    "14%3\n"
   ]
  },
  {
   "cell_type": "markdown",
   "id": "abe14e1b",
   "metadata": {},
   "source": [
    "### Multiplication\n"
   ]
  },
  {
   "cell_type": "code",
   "execution_count": null,
   "id": "138a9fb4",
   "metadata": {},
   "outputs": [],
   "source": [
    "print(20*5)"
   ]
  },
  {
   "cell_type": "code",
   "execution_count": null,
   "id": "024cf2bf",
   "metadata": {},
   "outputs": [],
   "source": [
    "#Exponent (**)\n",
    "3**4  #-----> 3 *3*3*4\n",
    "\n"
   ]
  },
  {
   "cell_type": "code",
   "execution_count": null,
   "id": "00560a5b",
   "metadata": {},
   "outputs": [],
   "source": [
    "# -- Comparision Operation ---->(it will give true or false)\n",
    "< #---- less than \n",
    "> #------- greater than\n",
    "<= #-------less than or equal to\n",
    "\n",
    ">= #---- greater than or equal to"
   ]
  },
  {
   "cell_type": "code",
   "execution_count": null,
   "id": "86a61d09",
   "metadata": {},
   "outputs": [],
   "source": [
    "10>20\n"
   ]
  },
  {
   "cell_type": "code",
   "execution_count": 2,
   "id": "fd26dd53",
   "metadata": {},
   "outputs": [
    {
     "data": {
      "text/plain": [
       "True"
      ]
     },
     "execution_count": 2,
     "metadata": {},
     "output_type": "execute_result"
    }
   ],
   "source": [
    "30 >20"
   ]
  },
  {
   "cell_type": "code",
   "execution_count": 3,
   "id": "ac636c82",
   "metadata": {},
   "outputs": [
    {
     "data": {
      "text/plain": [
       "True"
      ]
     },
     "execution_count": 3,
     "metadata": {},
     "output_type": "execute_result"
    }
   ],
   "source": [
    "10 <20\n"
   ]
  },
  {
   "cell_type": "code",
   "execution_count": 4,
   "id": "d42d37d1",
   "metadata": {},
   "outputs": [
    {
     "ename": "SyntaxError",
     "evalue": "cannot assign to literal here. Maybe you meant '==' instead of '='? (1637406045.py, line 1)",
     "output_type": "error",
     "traceback": [
      "\u001b[1;36m  Cell \u001b[1;32mIn[4], line 1\u001b[1;36m\u001b[0m\n\u001b[1;33m    10 = 10\u001b[0m\n\u001b[1;37m    ^\u001b[0m\n\u001b[1;31mSyntaxError\u001b[0m\u001b[1;31m:\u001b[0m cannot assign to literal here. Maybe you meant '==' instead of '='?\n"
     ]
    }
   ],
   "source": [
    "10 = 10 "
   ]
  },
  {
   "cell_type": "markdown",
   "id": "32e3573e",
   "metadata": {},
   "source": [
    "## Equality operators\n",
    "it will return true or false\n",
    "\n",
    "==\n",
    "!="
   ]
  },
  {
   "cell_type": "code",
   "execution_count": null,
   "id": "da8a1afe",
   "metadata": {},
   "outputs": [],
   "source": [
    "a = 20\n",
    "b = 20\n",
    "a == b"
   ]
  },
  {
   "cell_type": "code",
   "execution_count": null,
   "id": "ccb72e3b",
   "metadata": {},
   "outputs": [],
   "source": [
    "a = 20\n",
    "b = 40\n",
    "print(a != b)"
   ]
  },
  {
   "cell_type": "code",
   "execution_count": null,
   "id": "dbdc8fa4",
   "metadata": {},
   "outputs": [],
   "source": [
    "a = 20\n",
    "b = 20\n",
    "print (a != b)"
   ]
  },
  {
   "cell_type": "code",
   "execution_count": null,
   "id": "04c96147",
   "metadata": {},
   "outputs": [],
   "source": [
    "a = \"LearnBay \"\n",
    "b =\"LearnBay\"\n",
    "a == b"
   ]
  },
  {
   "cell_type": "code",
   "execution_count": null,
   "id": "faf3bf63",
   "metadata": {},
   "outputs": [],
   "source": [
    "#ascii\n",
    "ord(\" \")  # ord is used to find the  ascii value"
   ]
  },
  {
   "cell_type": "raw",
   "id": "913fbf35",
   "metadata": {},
   "source": [
    "ord(\"A\")"
   ]
  },
  {
   "cell_type": "code",
   "execution_count": null,
   "id": "13313354",
   "metadata": {},
   "outputs": [],
   "source": [
    "ord(\"A\")"
   ]
  },
  {
   "cell_type": "raw",
   "id": "b3b91c47",
   "metadata": {},
   "source": [
    "ord(\"a\")"
   ]
  },
  {
   "cell_type": "code",
   "execution_count": null,
   "id": "d799558b",
   "metadata": {},
   "outputs": [],
   "source": [
    "ord(\"a\")"
   ]
  },
  {
   "cell_type": "markdown",
   "id": "e797d099",
   "metadata": {},
   "source": [
    "## Logical Operators  and we will be using  this for loops"
   ]
  },
  {
   "cell_type": "code",
   "execution_count": null,
   "id": "3d11efe8",
   "metadata": {},
   "outputs": [],
   "source": [
    "and\n",
    "or\n",
    "not\n"
   ]
  },
  {
   "cell_type": "code",
   "execution_count": null,
   "id": "374cd9c2",
   "metadata": {},
   "outputs": [],
   "source": [
    "print(True and False) #False\n",
    "print(False and True) #False\n",
    "print(True and True)  #True\n",
    "print(False and False) #False"
   ]
  },
  {
   "cell_type": "code",
   "execution_count": null,
   "id": "4af7c214",
   "metadata": {},
   "outputs": [],
   "source": [
    "0 * 0"
   ]
  },
  {
   "cell_type": "code",
   "execution_count": null,
   "id": "026109a6",
   "metadata": {},
   "outputs": [],
   "source": [
    "## or (+)\n",
    "print(True or False) #True\n",
    "print(False or True) #True\n",
    "print(True or True)  #True\n",
    "print(False or False) #False"
   ]
  },
  {
   "cell_type": "code",
   "execution_count": null,
   "id": "093e255a",
   "metadata": {},
   "outputs": [],
   "source": [
    "not True"
   ]
  },
  {
   "cell_type": "code",
   "execution_count": null,
   "id": "1e43e7d0",
   "metadata": {},
   "outputs": [],
   "source": [
    "a = \"ranjitha\"\n",
    "b = \"ranjitha\"\n",
    "a == b"
   ]
  },
  {
   "cell_type": "code",
   "execution_count": null,
   "id": "6e149c53",
   "metadata": {},
   "outputs": [],
   "source": [
    "10 and 20"
   ]
  },
  {
   "cell_type": "code",
   "execution_count": null,
   "id": "3012d63b",
   "metadata": {},
   "outputs": [],
   "source": [
    "A and b -------> result will be A if A is False else B will be the result\n",
    "A or b   -------> result will be A if A is True else B will be the result"
   ]
  },
  {
   "cell_type": "code",
   "execution_count": null,
   "id": "bddbaaa1",
   "metadata": {},
   "outputs": [],
   "source": [
    "#\n",
    "int -0 is always False and rest int are true\n",
    "float - 0.0 is always False and rest int are True\n",
    "string - \"\" is always False and rest int are True\n",
    "comple - 0+0j is always False and rest int are True"
   ]
  },
  {
   "cell_type": "code",
   "execution_count": null,
   "id": "211f80a2",
   "metadata": {},
   "outputs": [],
   "source": [
    "10 and 40"
   ]
  },
  {
   "cell_type": "code",
   "execution_count": null,
   "id": "f76af45a",
   "metadata": {},
   "outputs": [],
   "source": [
    "0 or 20 # A --> 0  b--->20\n",
    "#result will be A if A is True else B will be the result"
   ]
  },
  {
   "cell_type": "markdown",
   "id": "6dd4726e",
   "metadata": {},
   "source": [
    "### Bitwise operators "
   ]
  },
  {
   "cell_type": "code",
   "execution_count": null,
   "id": "9af13337",
   "metadata": {},
   "outputs": [],
   "source": [
    "&---> bitwise and\n",
    "| ---> bitwise or\n",
    "^  -----> bitwise xor\n",
    "<< -----> leftshift\n",
    ">>  ------> right shift\n",
    "~   ------->bitwise not (tilde)"
   ]
  },
  {
   "cell_type": "code",
   "execution_count": null,
   "id": "72dabb96",
   "metadata": {},
   "outputs": [],
   "source": [
    "# & ----> bitwise and\n",
    "x =10\n",
    "y =4"
   ]
  },
  {
   "cell_type": "code",
   "execution_count": null,
   "id": "758e85bc",
   "metadata": {},
   "outputs": [],
   "source": [
    "bin(x)"
   ]
  },
  {
   "cell_type": "code",
   "execution_count": null,
   "id": "a9149843",
   "metadata": {},
   "outputs": [],
   "source": [
    "bin(y)"
   ]
  },
  {
   "cell_type": "code",
   "execution_count": null,
   "id": "9cadc7dc",
   "metadata": {},
   "outputs": [],
   "source": [
    "10  ----------->  1 0 1 0\n",
    "4   ------------> 0 1 0 0\n",
    "-------------------------------------\n",
    "                  0 0 0 0"
   ]
  },
  {
   "cell_type": "code",
   "execution_count": null,
   "id": "b64762c8",
   "metadata": {},
   "outputs": [],
   "source": [
    "print(0b0000)"
   ]
  },
  {
   "cell_type": "code",
   "execution_count": null,
   "id": "96ee3874",
   "metadata": {},
   "outputs": [],
   "source": [
    "#|  ---> bitwise or\n",
    "x = 44\n",
    "y = 56\n",
    "print(x ^ y)"
   ]
  },
  {
   "cell_type": "code",
   "execution_count": null,
   "id": "79af9847",
   "metadata": {},
   "outputs": [],
   "source": [
    "44 -----------> 1 0 1 1 0 0\n",
    "56 -----------> 1 1 1 0 0 0\n",
    "--------------------------------------XOR\n",
    "                0 1 0 1 0 0\n"
   ]
  },
  {
   "cell_type": "code",
   "execution_count": null,
   "id": "c1f66d82",
   "metadata": {},
   "outputs": [],
   "source": [
    "print(0b010100)"
   ]
  },
  {
   "cell_type": "code",
   "execution_count": null,
   "id": "ea5a02e5",
   "metadata": {},
   "outputs": [],
   "source": [
    "#Rightshift(>> ----> right shift)\n",
    "# formula  A//(2*n)\n",
    "\n",
    "x = 20\n",
    "print(x>>4)"
   ]
  },
  {
   "cell_type": "code",
   "execution_count": null,
   "id": "a12ff6b6",
   "metadata": {},
   "outputs": [],
   "source": [
    "# Left shift << ---> leftshift\n",
    "\n",
    "A * (2**n)"
   ]
  },
  {
   "cell_type": "code",
   "execution_count": null,
   "id": "98a9444a",
   "metadata": {},
   "outputs": [],
   "source": [
    "print(20<<4)"
   ]
  },
  {
   "cell_type": "code",
   "execution_count": null,
   "id": "c4061baf",
   "metadata": {},
   "outputs": [],
   "source": [
    "20 * (2**4)"
   ]
  },
  {
   "cell_type": "code",
   "execution_count": null,
   "id": "d519e714",
   "metadata": {},
   "outputs": [],
   "source": [
    "# (~)  -----> bitwise not (tilde)\n",
    "# a  + 1 -----> change the sign\n",
    "a = 500"
   ]
  },
  {
   "cell_type": "code",
   "execution_count": null,
   "id": "d26f40b8",
   "metadata": {},
   "outputs": [],
   "source": [
    "~(500)"
   ]
  },
  {
   "cell_type": "markdown",
   "id": "938d7e1c",
   "metadata": {},
   "source": [
    "### Assignment operator"
   ]
  },
  {
   "cell_type": "code",
   "execution_count": 9,
   "id": "e4f18272",
   "metadata": {},
   "outputs": [
    {
     "name": "stdout",
     "output_type": "stream",
     "text": [
      "10\n"
     ]
    }
   ],
   "source": [
    "a = 10\n",
    "print(a)"
   ]
  },
  {
   "cell_type": "code",
   "execution_count": 10,
   "id": "89388021",
   "metadata": {},
   "outputs": [
    {
     "name": "stdout",
     "output_type": "stream",
     "text": [
      "15\n"
     ]
    }
   ],
   "source": [
    " a = a + 5 #--------> a+5\n",
    "print(a)"
   ]
  },
  {
   "cell_type": "code",
   "execution_count": null,
   "id": "5896f8de",
   "metadata": {},
   "outputs": [],
   "source": [
    "a = a + 5 #-----> a+=5\n",
    "a = a - 5  # -----> a-=5\n",
    "a = a / 5  # ------> a/=5\n",
    "a = a // 5 # a//=5\n",
    "a = a ** 5 # a**=5\n",
    "a = a & 5  # a&=5\n",
    "a = a | 5 # a*=5"
   ]
  },
  {
   "cell_type": "markdown",
   "id": "a7096356",
   "metadata": {},
   "source": [
    "### Identity Operators"
   ]
  },
  {
   "cell_type": "code",
   "execution_count": 11,
   "id": "d3298d01",
   "metadata": {},
   "outputs": [],
   "source": [
    "a = 10\n",
    "b = 10\n"
   ]
  },
  {
   "cell_type": "code",
   "execution_count": 12,
   "id": "fc653c5b",
   "metadata": {},
   "outputs": [
    {
     "name": "stdout",
     "output_type": "stream",
     "text": [
      "140717644026952\n",
      "140717644026952\n"
     ]
    }
   ],
   "source": [
    "print(id(a))\n",
    "print(id(b))"
   ]
  },
  {
   "cell_type": "code",
   "execution_count": 13,
   "id": "c8ac41c2",
   "metadata": {},
   "outputs": [],
   "source": [
    "# object /memory reusability"
   ]
  },
  {
   "cell_type": "code",
   "execution_count": 14,
   "id": "c585d2ea",
   "metadata": {},
   "outputs": [
    {
     "name": "stdout",
     "output_type": "stream",
     "text": [
      "True\n"
     ]
    }
   ],
   "source": [
    "print (a is b)"
   ]
  },
  {
   "cell_type": "code",
   "execution_count": 15,
   "id": "b2d13dc5",
   "metadata": {},
   "outputs": [
    {
     "name": "stdout",
     "output_type": "stream",
     "text": [
      "False\n"
     ]
    }
   ],
   "source": [
    "print (a is not b) "
   ]
  },
  {
   "cell_type": "code",
   "execution_count": 16,
   "id": "1f9fa6b7",
   "metadata": {},
   "outputs": [
    {
     "ename": "SyntaxError",
     "evalue": "invalid syntax (2144426753.py, line 1)",
     "output_type": "error",
     "traceback": [
      "\u001b[1;36m  Cell \u001b[1;32mIn[16], line 1\u001b[1;36m\u001b[0m\n\u001b[1;33m    -5 to 256\u001b[0m\n\u001b[1;37m       ^\u001b[0m\n\u001b[1;31mSyntaxError\u001b[0m\u001b[1;31m:\u001b[0m invalid syntax\n"
     ]
    }
   ],
   "source": [
    "-5 to 256\n",
    "---> physochological study\n",
    "----> 0 256"
   ]
  },
  {
   "cell_type": "code",
   "execution_count": 17,
   "id": "f7210320",
   "metadata": {},
   "outputs": [
    {
     "name": "stdout",
     "output_type": "stream",
     "text": [
      "140717644027272\n",
      "140717644027272\n"
     ]
    }
   ],
   "source": [
    "x = 20\n",
    "y = 20\n",
    "print(id(x))\n",
    "print(id(y))"
   ]
  },
  {
   "cell_type": "code",
   "execution_count": null,
   "id": "e0569bd8",
   "metadata": {},
   "outputs": [],
   "source": [
    "# object /memory reusability\n",
    "int ---- - 5 to 256\n",
    "None\n",
    "True,False\n",
    "string ---> \"A - Z\", \"a-z\", 0-9"
   ]
  },
  {
   "cell_type": "markdown",
   "id": "de8c550a",
   "metadata": {},
   "source": [
    "## Float data type"
   ]
  },
  {
   "cell_type": "code",
   "execution_count": 18,
   "id": "0713cac1",
   "metadata": {},
   "outputs": [
    {
     "ename": "SyntaxError",
     "evalue": "invalid syntax (442665345.py, line 1)",
     "output_type": "error",
     "traceback": [
      "\u001b[1;36m  Cell \u001b[1;32mIn[18], line 1\u001b[1;36m\u001b[0m\n\u001b[1;33m    any number with decimal is a float\u001b[0m\n\u001b[1;37m        ^\u001b[0m\n\u001b[1;31mSyntaxError\u001b[0m\u001b[1;31m:\u001b[0m invalid syntax\n"
     ]
    }
   ],
   "source": [
    "any number with decimal is a float\n",
    "example  ----> 10.99,88.899,90.0, -5.50"
   ]
  },
  {
   "cell_type": "code",
   "execution_count": 19,
   "id": "5d2ceb77",
   "metadata": {},
   "outputs": [],
   "source": [
    "f = 10.99"
   ]
  },
  {
   "cell_type": "code",
   "execution_count": 20,
   "id": "71dbeb8f",
   "metadata": {},
   "outputs": [
    {
     "name": "stdout",
     "output_type": "stream",
     "text": [
      "<class 'float'>\n"
     ]
    }
   ],
   "source": [
    "print(type(f))"
   ]
  },
  {
   "cell_type": "code",
   "execution_count": null,
   "id": "2ed11378",
   "metadata": {},
   "outputs": [],
   "source": [
    "a = -100\n"
   ]
  },
  {
   "cell_type": "markdown",
   "id": "0bbcfa4a",
   "metadata": {},
   "source": [
    "### operations on Float"
   ]
  },
  {
   "cell_type": "markdown",
   "id": "cbabf3ca",
   "metadata": {},
   "source": [
    "#- arithematic operations\n",
    "#- comparison operations\n",
    "#- logical coperations\n",
    "#- Equality operations\n",
    "#- assignment operations\n",
    "#- we cannot do bitwise operations on float\n",
    "#- identity operations we can perform on flat\n"
   ]
  },
  {
   "cell_type": "code",
   "execution_count": null,
   "id": "33530e1b",
   "metadata": {},
   "outputs": [],
   "source": [
    "#note -- object reusability is not applicable in float"
   ]
  }
 ],
 "metadata": {
  "kernelspec": {
   "display_name": "Python 3 (ipykernel)",
   "language": "python",
   "name": "python3"
  },
  "language_info": {
   "codemirror_mode": {
    "name": "ipython",
    "version": 3
   },
   "file_extension": ".py",
   "mimetype": "text/x-python",
   "name": "python",
   "nbconvert_exporter": "python",
   "pygments_lexer": "ipython3",
   "version": "3.11.5"
  }
 },
 "nbformat": 4,
 "nbformat_minor": 5
}
